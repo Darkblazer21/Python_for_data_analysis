{
 "cells": [
  {
   "cell_type": "markdown",
   "id": "dc9cde93-ead5-45c7-adbb-e5755414957a",
   "metadata": {},
   "source": [
    "# Basic Input and Output"
   ]
  },
  {
   "cell_type": "markdown",
   "id": "c7c0338d-1e5a-4a82-b8e2-e7e432084fda",
   "metadata": {},
   "source": [
    "The traditional \"Hello, world\" program is very simple in Python. You can run the program by selecting the cell by mouse and pressing control-enter on keyboard. Try editing the string in the quotes and rerunning the program."
   ]
  },
  {
   "cell_type": "code",
   "execution_count": 1,
   "id": "6cee2722-861e-41f0-a454-f1559fb87107",
   "metadata": {},
   "outputs": [
    {
     "name": "stdout",
     "output_type": "stream",
     "text": [
      "Hello world2!\n"
     ]
    }
   ],
   "source": [
    "print(\"Hello world2!\")"
   ]
  },
  {
   "cell_type": "markdown",
   "id": "b2fb5428-b6be-4804-a157-8a80eb83aca0",
   "metadata": {},
   "source": [
    "Multiple strings can be printed. By default, they are concatenated with a space:\r\n"
   ]
  },
  {
   "cell_type": "code",
   "execution_count": 2,
   "id": "e45b08df-75f8-4a7c-9d24-830eb437ac47",
   "metadata": {},
   "outputs": [
    {
     "name": "stdout",
     "output_type": "stream",
     "text": [
      "Hello, John! How are you?\n"
     ]
    }
   ],
   "source": [
    "print(\"Hello,\", \"John!\", \"How are you?\")"
   ]
  },
  {
   "cell_type": "markdown",
   "id": "51d456cd-5f6f-405e-a2ef-68ad09849d27",
   "metadata": {},
   "source": [
    "In the print function, numerical expressions are first evaluated and then automatically converted to strings. Subsequently the strings are concatenated with spaces:"
   ]
  },
  {
   "cell_type": "code",
   "execution_count": 3,
   "id": "8edeca97-9b5c-444e-bd62-c2dc4495905f",
   "metadata": {},
   "outputs": [
    {
     "name": "stdout",
     "output_type": "stream",
     "text": [
      "1 plus 2 equals 3\n"
     ]
    }
   ],
   "source": [
    "print(1, \"plus\", 2, \"equals\", 1+2)"
   ]
  },
  {
   "cell_type": "markdown",
   "id": "68378457-b1b8-40bd-bf6f-8aca3c07c103",
   "metadata": {},
   "source": [
    "Reading textual input from the user can be achieved with the input function. The input function is given a string parameter, which is printed and prompts the user to give input. In the example below, the string entered by the user is stored the variable name. Try executing the program in the interactive notebook by pressing control-enter!"
   ]
  },
  {
   "cell_type": "code",
   "execution_count": 5,
   "id": "dde18f5b-4494-49a6-ba8a-b45a16f68e19",
   "metadata": {},
   "outputs": [
    {
     "name": "stdin",
     "output_type": "stream",
     "text": [
      "Give me your name:  Darkblazer\n"
     ]
    },
    {
     "name": "stdout",
     "output_type": "stream",
     "text": [
      "Hello, Darkblazer\n"
     ]
    }
   ],
   "source": [
    "name=input(\"Give me your name: \")\n",
    "print(\"Hello,\", name)"
   ]
  },
  {
   "cell_type": "markdown",
   "id": "67273389-5b16-40f9-b6fd-402292e26e3e",
   "metadata": {},
   "source": [
    "# Indentation"
   ]
  },
  {
   "cell_type": "markdown",
   "id": "709438e1-ef6f-4743-8361-57c8eed92799",
   "metadata": {},
   "source": [
    "Repetition is possible with the for loop. Note that the body of for loop is indented with a tabulator or four spaces. Unlike in some other languages, braces are not needed to denote the body of the loop. When the indentation stops, the body of the loop ends."
   ]
  },
  {
   "cell_type": "code",
   "execution_count": 6,
   "id": "739ab0e7-ebb9-4ea6-b2c5-63249c49aeb4",
   "metadata": {},
   "outputs": [
    {
     "name": "stdout",
     "output_type": "stream",
     "text": [
      "Hello\n",
      "Hello\n",
      "Hello\n",
      "Bye!\n"
     ]
    }
   ],
   "source": [
    "for i in range(3):\n",
    "    print(\"Hello\")\n",
    "print(\"Bye!\")"
   ]
  },
  {
   "cell_type": "markdown",
   "id": "8d865101-2fc2-4a14-8ab9-9fbbe69cb396",
   "metadata": {},
   "source": [
    "Indentation applies to other compound statements as well, such as bodies of functions, different branches of an if statement, and while loops. We shall see examples of these later.\r\n",
    "\r\n",
    "The range(3) expression above actually results with the sequence of integers 0, 1, and 2. So, the range is a half-open interval with the end point excluded from the range. In general, expression range(n) gives integers 0, 1, 2, ..., n-1. Modify the above program to make it also print the value of variable i at each iteration. Rerun the code with control-enter."
   ]
  },
  {
   "cell_type": "markdown",
   "id": "bf4c4870-cb31-49a4-a045-5f89ccc722a1",
   "metadata": {},
   "source": [
    "<div style=\"background-color: whitesmoke; color: black; box-sizing: border-box;\">\n",
    "  <hr style=\"border:4px solid cyan;\">\n",
    "  <h2>Exercise 1.1(hello world)</h2>\n",
    "  <p>Fill in the missing piece in the solution stub file hello_world.py in folder src to make it print the following:</p>\n",
    "  <br>\n",
    "  <p>Hello, world!\n",
    "<pp\n",
    "  <br>\n",
    "  <p>Make sure you use correct indenting. You can run it with command python3 src/hello_world.py. If the output looks good, then you can test it with command tmc test. If the tests pass, submit your solution to the server with command tmc submit</p> \n",
    "  <hr style=\"border:4px solid cyan;\"/>\n",
    "\n",
    "</div>"
   ]
  },
  {
   "cell_type": "markdown",
   "id": "4ba1cadd-6499-4e74-98ac-6bf4ec7d4877",
   "metadata": {},
   "source": [
    "<div style=\"background-color: whitesmoke; color: black; box-sizing: border-box;\">\n",
    "  <hr style=\"border:4px solid cyan;\">\n",
    "  <h2>Exercise 1.2(compliment)</h2>\n",
    "  <p>Fill in the stub solution to make the program work as follows. The program should ask the user for an input, and then print an answer as the examples below show.</p>\n",
    "  <br>\n",
    "  <p>What country are you from? Sweden\r\n",
    "I have heard that Sweden is a beautiful country.</p>\n",
    "  <br>\n",
    "  <pWhat country are you from? Chile  \r\n",
    "I have heard that Chile is a beautiful country.t</p> \n",
    "  <hr style=\"border:4px solid cyan;\"/>\n",
    "</div>"
   ]
  },
  {
   "cell_type": "markdown",
   "id": "b6792376-2545-4d26-b62f-3c0556255c9b",
   "metadata": {},
   "source": [
    "<div style=\"background-color: whitesmoke; color: black; box-sizing: border-box;\">\n",
    "  <hr style=\"border:4px solid cyan;\">\n",
    "  <h2>Exercise 1.3(multiplication)</h2>\n",
    "  <p>Make a program that gives the following output. You should use a for loop in your solution.</p>\n",
    "  <br>\n",
    "  <ul>\n",
    "    <li>4 multiplied by 0 is 0</li>\n",
    "    <li>4 multiplied by 1 is 4</li>\n",
    "    <li>4 multiplied by 2 is 8</li>\n",
    "    <li>4 multiplied by 3 is 12</li>\n",
    "    <li>4 multiplied by 4 is 16</li>\n",
    "    <li>4 multiplied by 5 is 20</li>\n",
    "    <li>4 multiplied by 6 is 24</li>\n",
    "    <li>4 multiplied by 7 is 28</li>\n",
    "    <li>4 multiplied by 8 is 32</li>\n",
    "    <li>4 multiplied by 9 is 36</li>\n",
    "    <li>4 multiplied by 10 is 40</li>\n",
    "  </ul> is 40<ntry.</p> \n",
    "  <hr style=\"border:4px solid cyan;\"/>\n",
    "</div>"
   ]
  },
  {
   "cell_type": "code",
   "execution_count": null,
   "id": "ec4ee711-3345-4cd1-812e-ba8c5777e79d",
   "metadata": {},
   "outputs": [],
   "source": []
  },
  {
   "cell_type": "code",
   "execution_count": null,
   "id": "90a386f8-e2e2-4ae3-b17c-a5d4724b38c4",
   "metadata": {},
   "outputs": [],
   "source": []
  }
 ],
 "metadata": {
  "kernelspec": {
   "display_name": "Python 3 (ipykernel)",
   "language": "python",
   "name": "python3"
  },
  "language_info": {
   "codemirror_mode": {
    "name": "ipython",
    "version": 3
   },
   "file_extension": ".py",
   "mimetype": "text/x-python",
   "name": "python",
   "nbconvert_exporter": "python",
   "pygments_lexer": "ipython3",
   "version": "3.11.7"
  }
 },
 "nbformat": 4,
 "nbformat_minor": 5
}
